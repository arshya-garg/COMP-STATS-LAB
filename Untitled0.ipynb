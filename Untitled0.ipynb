{
  "nbformat": 4,
  "nbformat_minor": 0,
  "metadata": {
    "colab": {
      "provenance": [],
      "authorship_tag": "ABX9TyPYWpgJ273VAjqAEK5W/WMV",
      "include_colab_link": true
    },
    "kernelspec": {
      "name": "python3",
      "display_name": "Python 3"
    },
    "language_info": {
      "name": "python"
    }
  },
  "cells": [
    {
      "cell_type": "markdown",
      "metadata": {
        "id": "view-in-github",
        "colab_type": "text"
      },
      "source": [
        "<a href=\"https://colab.research.google.com/github/arshya-garg/COMP-STATS-LAB/blob/main/Untitled0.ipynb\" target=\"_parent\"><img src=\"https://colab.research.google.com/assets/colab-badge.svg\" alt=\"Open In Colab\"/></a>"
      ]
    },
    {
      "cell_type": "code",
      "source": [
        "%matplotlib inline\n",
        "import numpy as np\n",
        "import matplotlib.pyplot as plt\n",
        "\n",
        "\n",
        " #Linear regression implementation using sklearn\n",
        "\n",
        "from sklearn.linear_model import LinearRegression\n",
        "from sklearn.metrics import mean_squared_error\n",
        "\n",
        "X = np.array([1,2,3,4,5])\n",
        "Y = np.array([2,4,5,4,5])\n",
        "X = X.reshape(m, 1)\n",
        "reg = LinearRegression()\n",
        "reg = reg.fit(X,Y)\n",
        "\n",
        "Y_pred = reg.predict(X)\n",
        "r2_square = reg.score(X, Y)\n",
        "\n",
        "print (r2_square)\n",
        "\n",
        "\n",
        "m_x=np.mean(x)\n",
        "m_y=np.mean(y)\n",
        "  \n",
        "\n",
        "num=np.sum([(x-m_x)*(y-m_y)])\n",
        "den=np.sum([(x-m_x)*(x-m_x)])\n",
        "b1= num/den\n",
        "print(\"b1:\",b1)\n",
        "\n",
        "\n",
        "b0=m_y -b1*m_x\n",
        "print(\"b0:\",b0)\n",
        "\n",
        "\n",
        "N=len(x)\n",
        "num = (N * (x*y).sum()) - (x.sum() * y.sum())\n",
        "den = np.sqrt((N * (x**2).sum() - x.sum()**2) * (N * (y**2).sum() - y.sum()**2))\n",
        "R = num / den\n",
        "print(\"R:\",R)  \n",
        "\n",
        "\n",
        "sse = sum([((b0 + b1*x) - m_y)*(y - m_y)])\n",
        "sst = sum([(y - m_y)*(y - m_y) ])\n",
        "num1=np.sum(sse)\n",
        "den1=np.sum(sst)\n",
        "print(\"sse:\",num1)\n",
        "print(\"sst:\",den1)\n",
        "r_sqr =float( 1-(num1/den1))\n",
        "vif=float(1/(1-r_sqr))\n",
        "print(\"vif:\",vif)\n",
        "\n"
      ],
      "metadata": {
        "colab": {
          "base_uri": "https://localhost:8080/"
        },
        "id": "Oj7B3Lo7Nb34",
        "outputId": "7ba8375f-6ceb-47d0-adbc-c8fb26fefaff"
      },
      "execution_count": null,
      "outputs": [
        {
          "output_type": "stream",
          "name": "stdout",
          "text": [
            "b1: 0.6\n",
            "b0: 2.2\n",
            "R: 0.7745966692414834\n",
            "sse: 3.5999999999999996\n",
            "sst: 6.0\n",
            "vif: 1.6666666666666667\n"
          ]
        }
      ]
    },
    {
      "cell_type": "code",
      "source": [
        "#size\n",
        "n=np.size(x)\n",
        "\n",
        "#mean\n",
        "def meanCalc(A):\n",
        "  for i in A:\n",
        "    sum=sum+A[i]\n",
        "  return(sum/n)\n",
        "\n",
        "\n",
        "\n",
        "def b1Calc(A,B):\n",
        "  for i in A:\n",
        "    for i in B:\n",
        "      num=num+(A[i]-m_x)*(B[i]-m_y)\n",
        "\n",
        "  for i in A:\n",
        "    den=den+(A[i]-m_x)*(A[i]-m_x)\n",
        "  return(num/den)\n",
        "  \n",
        "\n",
        "#=np.sum([(x-m_x)*(y-m_y)])\n",
        "#den=np.sum([(x-m_x)*(x-m_x)])\n",
        "#b1=num/den\n",
        "\n",
        "def b0Calc(b1,m_x,m_y):\n",
        "  b0=m_y -b1*m_x\n",
        "\n",
        "\n",
        "def line(b0,b1):\n",
        "  y=b0+b1*x\n",
        "  y_pred=map(x,y)\n",
        "  return y_pred\n",
        "\n",
        "def main():\n",
        "  x = np.array([95,85,80,70,60])\n",
        "  y = np.array([85,95,70,65,70])\n",
        "  n=5\n",
        "  m_x=meanCalc(x)\n",
        "  m_y=meanCalc(y)\n",
        "  b0=b0Calc(b1,m_x,m_y)\n",
        "  b1=b1Calc(x,y)\n",
        "  y_pred=line(b0,b1)\n",
        "  plt.scatter(x,y,color='green')\n",
        "  plt.xlabel('x')\n",
        "  plt.ylabel('y')\n",
        "  \n",
        "  plt.plot(x,y_pred,color='black')\n",
        "  plt.show()"
      ],
      "metadata": {
        "id": "aOEim_bAZ7zv"
      },
      "execution_count": null,
      "outputs": []
    },
    {
      "cell_type": "code",
      "source": [
        "%matplotlib inline\n",
        "import numpy as np\n",
        "import matplotlib.pyplot as plt\n",
        "import seaborn as sb\n",
        "import pandas as pd\n",
        "\n",
        "data = pd.read_csv(\"Salary_Data.csv\")\n",
        "data.head()\n",
        "final_data = data[[\"YearsExperience\", \"Salary\"]]\n",
        "x = data['YearsExperience']    # independent variable,predictor\n",
        "y = data['Salary']                 #dependent variable, target\n",
        "y=(y/max(y))*max(x)\n",
        "\n",
        "#mean\n",
        "m_x=np.mean(x)\n",
        "m_y=np.mean(y)\n",
        "  \n",
        "#b1\n",
        "num=np.sum([(x-m_x)*(y-m_y)])\n",
        "den=np.sum([(x-m_x)*(x-m_x)])\n",
        "b1= num/den\n",
        "print(\"b1:\",b1)\n",
        "\n",
        "#b0\n",
        "b0=m_y -b1*m_x\n",
        "print(\"b0:\",b0)\n",
        "\n",
        "#Coefficient of correlation\n",
        "N=len(x)\n",
        "num = (N * (x*y).sum()) - (x.sum() * y.sum())\n",
        "den = np.sqrt((N * (x**2).sum() - x.sum()**2) * (N * (y**2).sum() - y.sum()**2))\n",
        "R = num / den\n",
        "print(\"R:\",R)  \n",
        "\n",
        "#VIF\n",
        "sse = np.sum([(y - m_y)*(y - m_y)])\n",
        "sst = np.sum([(y - m_y)*(y - m_y) ])\n",
        "num1=np.sum(sse)\n",
        "den1=np.sum(sst)\n",
        "r_sqr = float(1 - (num1 / den1))\n",
        "vif=float(1/(1-r_sqr))\n",
        "print(\"vif:\",vif)\n",
        "\n",
        "\n",
        "plt.scatter(x,y,color='green')\n",
        "plt.xlabel('x')\n",
        "plt.ylabel('y')\n",
        "plt.plot(x, b0 + b1*x)"
      ],
      "metadata": {
        "colab": {
          "base_uri": "https://localhost:8080/",
          "height": 368
        },
        "id": "WwvhgBy3zv7k",
        "outputId": "3120dfb0-da2d-4a79-f0b3-1d90f5792627"
      },
      "execution_count": 3,
      "outputs": [
        {
          "output_type": "stream",
          "name": "stdout",
          "text": [
            "b1: 0.8107181441060071\n",
            "b0: 2.2127288941672294\n",
            "R: 0.9782416184887603\n",
            "vif: 1.0\n"
          ]
        },
        {
          "output_type": "execute_result",
          "data": {
            "text/plain": [
              "[<matplotlib.lines.Line2D at 0x7fa8b4933690>]"
            ]
          },
          "metadata": {},
          "execution_count": 3
        },
        {
          "output_type": "display_data",
          "data": {
            "text/plain": [
              "<Figure size 432x288 with 1 Axes>"
            ],
            "image/png": "[encoded data removed]"
          },
          "metadata": {
            "needs_background": "light"
          }
        }
      ]
    },
    {
      "cell_type": "code",
      "source": [],
      "metadata": {
        "id": "VqSJ2HYG1IcI"
      },
      "execution_count": null,
      "outputs": []
    },
    {
      "cell_type": "code",
      "source": [
        "import numpy as np\n",
        "import matplotlib.pyplot as plt\n",
        "import seaborn as sb\n",
        "import pandas as pd\n",
        "\n",
        "def linear(X,b0,b1):\n",
        "  return [b0+b1*x for x in X]\n",
        "\n",
        "\n",
        "# b0 - Intercept\n",
        "def intercept(X, Y, b1): \n",
        "    m_x = np.mean(X)\n",
        "    m_y = np.mean(Y)\n",
        "    \n",
        "    return m_y- b1*m_x\n",
        "\n",
        "# b1 - Slope\n",
        "def slope(X, Y):\n",
        "    m_x = np.mean(X)\n",
        "    m_y= np.mean(Y)\n",
        "    \n",
        "    num = sum([(x-m_x) * (y-m_y) for x,y in zip(X,Y)])\n",
        "    den = sum([(x-m_x)**2 for x,y in zip(X,Y)])\n",
        "    \n",
        "    return num / den\n",
        "\n",
        "  \n",
        "\n",
        "data = pd.read_csv(\"Salary_Data.csv\")\n",
        "data.head()\n",
        "final_data = data[[\"YearsExperience\", \"Salary\"]]\n",
        "independent = data['YearsExperience']    # independent variable,predictor\n",
        "dependent = data['Salary']                 #dependent variable, target\n",
        "dependent=(dependent/max(dependent))*max(independent)\n",
        "\n",
        "plt.title(\"YearsExperience vs Salary\")\n",
        "plt.scatter(independent, dependent, color = \"blue\")\n",
        "plt.xlabel('YearsExperience')\n",
        "plt.ylabel('Salary')\n",
        "plt.show()\n",
        "\n",
        "\n",
        "b1 = slope(independent, dependent)\n",
        "b0 = intercept(independent,dependent, b1)\n",
        "predicted = linear(independent, b0, b1)\n",
        "print(predicted)\n",
        "#Coefficient of correlation\n",
        "N=len(x)\n",
        "num = (N * (x*y).sum()) - (x.sum() * y.sum())\n",
        "den = np.sqrt((N * (x**2).sum() - x.sum()**2) * (N * (y**2).sum() - y.sum()**2))\n",
        "R = num / den\n",
        "print(\"R:\",R)  \n",
        "\n",
        "#VIF\n",
        "sse = np.sum([(y - m_y)*(y - m_y)])\n",
        "sst = np.sum([(y - m_y)*(y - m_y) ])\n",
        "num1=np.sum(sse)\n",
        "den1=np.sum(sst)\n",
        "r_sqr = float(1 - (num1 / den1))\n",
        "vif=float(1/(1-r_sqr))\n",
        "print(\"vif:\",vif)\n",
        "\n",
        "plt.plot(independent, predicted, color = 'blue')\n",
        "plt.scatter(independent, predicted, color = 'red')\n",
        "plt.title('Predicted values by Linear Regression')\n",
        "plt.xlabel('YearsExperience')\n",
        "plt.ylabel('Salary')\n",
        "plt.scatter(independent, dependent, color = \"blue\")\n",
        "plt.show()\n",
        "print(\"Coefficients:\\n\")\n",
        "print(\"b0 : \", b0)\n",
        "print(\"b1 : \", b1)"
      ],
      "metadata": {
        "id": "zJCkTfbQtxT4",
        "colab": {
          "base_uri": "https://localhost:8080/",
          "height": 680
        },
        "outputId": "9dfcf4ed-72e3-443d-c79e-e0c5453f86bb"
      },
      "execution_count": null,
      "outputs": [
        {
          "output_type": "display_data",
          "data": {
            "text/plain": [
              "<Figure size 432x288 with 1 Axes>"
            ],
            "image/png": "[encoded data removed]"
          },
          "metadata": {
            "needs_background": "light"
          }
        },
        {
          "output_type": "stream",
          "name": "stdout",
          "text": [
            "[3.1045188526838365, 3.266662481505038, 3.4288061103262395, 3.834165182379243, 3.9963088112004446, 4.563811512074649, 4.64488332648525, 4.807026955306451, 4.807026955306451, 5.2123860273594556, 5.374529656180656, 5.455601470591257, 5.455601470591257, 5.536673285001857, 5.860960542644261, 6.185247800286664, 6.347391429107865, 6.5095350579290665, 6.995965944392671, 7.077037758803272, 7.7256122740880775, 7.968827717319879, 8.617402232604686, 8.860617675836487, 9.26597674788949, 9.509192191121294, 9.914551263174296, 9.995623077584897, 10.563125778459103, 10.725269407280305]\n"
          ]
        },
        {
          "output_type": "display_data",
          "data": {
            "text/plain": [
              "<Figure size 432x288 with 1 Axes>"
            ],
            "image/png": "[encoded data removed]"
          },
          "metadata": {
            "needs_background": "light"
          }
        },
        {
          "output_type": "stream",
          "name": "stdout",
          "text": [
            "Coefficients:\n",
            "\n",
            "b0 :  2.2127288941672285\n",
            "b1 :  0.8107181441060072\n"
          ]
        }
      ]
    },
    {
      "cell_type": "code",
      "source": [
        "from sklearn.linear_model import LinearRegression\n",
        "from sklearn.metrics import mean_squared_error\n",
        "import numpy as np\n",
        "import matplotlib.pyplot as plt\n",
        "import seaborn as sns\n",
        "import pandas as pd\n",
        "\n",
        "data = pd.read_csv(\"Salary_Data.csv\")\n",
        "data.head()\n",
        "\n",
        "final_data = data[[\"YearsExperience\", \"Salary\"]]\n",
        "X = data['YearsExperience'].values    # independent variable,predictor\n",
        "Y = data['Salary'].values                 #dependent variable, target\n",
        "Y=(Y/max(Y))*max(X)\n",
        "val_count=len(X)\n",
        "X = X.reshape(val_count, 1)\n",
        "reg = LinearRegression()\n",
        "reg = reg.fit(X,Y)\n",
        "\n",
        "Y_pred = reg.predict(X)\n",
        "r2_square = reg.score(X, Y)\n",
        "\n",
        "print (r2_square)"
      ],
      "metadata": {
        "colab": {
          "base_uri": "https://localhost:8080/"
        },
        "id": "BagJNs8MwrVO",
        "outputId": "abacdd05-ec56-49b9-b0cb-c7066615e46a"
      },
      "execution_count": null,
      "outputs": [
        {
          "output_type": "stream",
          "name": "stdout",
          "text": [
            "0.9569566641435086\n"
          ]
        }
      ]
    }
  ]
}