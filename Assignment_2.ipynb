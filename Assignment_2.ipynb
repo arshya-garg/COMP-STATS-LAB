{
  "nbformat": 4,
  "nbformat_minor": 0,
  "metadata": {
    "colab": {
      "provenance": [],
      "collapsed_sections": [],
      "authorship_tag": "ABX9TyNx+vuXUUL2JxMLmu+vYzmH",
      "include_colab_link": true
    },
    "kernelspec": {
      "name": "python3",
      "display_name": "Python 3"
    },
    "language_info": {
      "name": "python"
    }
  },
  "cells": [
    {
      "cell_type": "markdown",
      "metadata": {
        "id": "view-in-github",
        "colab_type": "text"
      },
      "source": [
        "<a href=\"https://colab.research.google.com/github/arshya-garg/COMP-STATS-LAB/blob/main/Assignment_2.ipynb\" target=\"_parent\"><img src=\"https://colab.research.google.com/assets/colab-badge.svg\" alt=\"Open In Colab\"/></a>"
      ]
    },
    {
      "cell_type": "markdown",
      "source": [
        "# Perform linear regression on kaggle dataset through inbuilt functions "
      ],
      "metadata": {
        "id": "M7GyQzZJunmW"
      }
    },
    {
      "cell_type": "code",
      "source": [
        "%matplotlib inline\n",
        "import numpy as np\n",
        "import matplotlib.pyplot as plt\n",
        "import seaborn as sb\n",
        "import pandas as pd\n",
        "\n",
        "data = pd.read_csv(\"Salary_Data.csv\")\n",
        "data.head()\n",
        "final_data = data[[\"YearsExperience\", \"Salary\"]]\n",
        "x = data['YearsExperience']    # independent variable,predictor\n",
        "y = data['Salary']                 #dependent variable, target\n",
        "y=(y/max(y))*max(x)\n",
        "\n",
        "#mean\n",
        "m_x=np.mean(x)\n",
        "m_y=np.mean(y)\n",
        "  \n",
        "#b1\n",
        "num=np.sum([(x-m_x)*(y-m_y)])\n",
        "den=np.sum([(x-m_x)*(x-m_x)])\n",
        "b1= num/den\n",
        "print(\"b1:\",b1)\n",
        "\n",
        "#b0\n",
        "b0=m_y -b1*m_x\n",
        "print(\"b0:\",b0)\n",
        "\n",
        "#Coefficient of correlation\n",
        "N=len(x)\n",
        "num = (N * (x*y).sum()) - (x.sum() * y.sum())\n",
        "den = np.sqrt((N * (x**2).sum() - x.sum()**2) * (N * (y**2).sum() - y.sum()**2))\n",
        "R = num / den\n",
        "print(\"R:\",R)  \n",
        "\n",
        "#VIF\n",
        "sse = np.sum([(y - m_y)*(y - m_y)])\n",
        "sst = np.sum([(y - m_y)*(y - m_y) ])\n",
        "num1=np.sum(sse)\n",
        "den1=np.sum(sst)\n",
        "r_sqr = float(1 - (num1 / den1))\n",
        "vif=float(1/(1-r_sqr))\n",
        "print(\"vif:\",vif)\n",
        "\n",
        "\n",
        "plt.scatter(x,y,color='green')\n",
        "plt.xlabel('x')\n",
        "plt.ylabel('y')\n",
        "plt.plot(x, b0 + b1*x)"
      ],
      "metadata": {
        "colab": {
          "base_uri": "https://localhost:8080/",
          "height": 368
        },
        "id": "CG9xuSfC0Xev",
        "outputId": "0af995a9-0434-4110-9bcd-3eaf7ea541d8"
      },
      "execution_count": 7,
      "outputs": [
        {
          "output_type": "stream",
          "name": "stdout",
          "text": [
            "b1: 0.8107181441060071\n",
            "b0: 2.2127288941672294\n",
            "R: 0.9782416184887603\n",
            "vif: 1.0\n"
          ]
        },
        {
          "output_type": "execute_result",
          "data": {
            "text/plain": [
              "[<matplotlib.lines.Line2D at 0x7f1dba8e26d0>]"
            ]
          },
          "metadata": {},
          "execution_count": 7
        },
        {
          "output_type": "display_data",
          "data": {
            "text/plain": [
              "<Figure size 432x288 with 1 Axes>"
            ],
            "image/png": "[encoded data removed]"
          },
          "metadata": {
            "needs_background": "light"
          }
        }
      ]
    },
    {
      "cell_type": "markdown",
      "source": [
        "# Perform linear regression on kaggle dataset through without inbuilt function(own)"
      ],
      "metadata": {
        "id": "R1vfKdSQuweS"
      }
    },
    {
      "cell_type": "code",
      "source": [
        "%matplotlib inline\n",
        "import numpy as np\n",
        "import matplotlib.pyplot as plt\n",
        "import itertools\n",
        "data = pd.read_csv(\"Salary_Data.csv\")\n",
        "data.head()\n",
        "final_data = data[[\"YearsExperience\", \"Salary\"]]\n",
        "x = data['YearsExperience']    # independent variable,predictor\n",
        "y = data['Salary']                 #dependent variable, target\n",
        "y=(y/max(y))*max(x)\n",
        "\n",
        "N=0\n",
        "for i in X:\n",
        "  N=N+1\n",
        "print(N)\n",
        "#N=len(X)\n",
        "sum=0\n",
        "sum1=0\n",
        "num=0\n",
        "den=0\n",
        "#mean\n",
        "for i in X:\n",
        "    sum=sum+i\n",
        "m_x=sum/N\n",
        "print(m_x)\n",
        "\n",
        "for j in Y:\n",
        "    sum1=sum1+j\n",
        "m_y=sum1/N\n",
        "print(m_y)\n",
        "\n",
        "#b1\n",
        "for i in range(N):\n",
        "  num=num+((X[i]-m_x)*(Y[i]-m_y))\n",
        "  den=den+((X[i]-m_x)*(X[i]-m_x))\n",
        "b1= (num/den)\n",
        "print(\"b1:\",b1)\n",
        "\n",
        "\n",
        "#b0\n",
        "b0=m_y-(b1*m_x)\n",
        "print(\"b0:\",b0)\n",
        "\n",
        "#Coeffienct of correlation\n",
        "sum_xy=0\n",
        "sum_x=0\n",
        "sum_y=0\n",
        "sum_x2=0\n",
        "sum_y2=0\n",
        "for i in range(N):\n",
        "  sum_xy=sum_xy+X[i]*Y[i]\n",
        "  sum_x=sum_x+X[i]\n",
        "  sum_y=sum_y+Y[i]\n",
        "  sum_x2=sum_x2+X[i]*X[i]\n",
        "  sum_y2=sum_y2+Y[i]*Y[i]\n",
        "num = (N * sum_xy) - (sum_x * sum_y)\n",
        "den = np.sqrt((N * sum_x2 - (sum_x*sum_x)) * (N * sum_y2 - (sum_y*sum_y)))\n",
        "R = num / den\n",
        "print(\"R:\",R)  \n",
        "\n",
        "#VIF\n",
        "#sse=0\n",
        "#sst=0\n",
        "\n",
        "for i in range(N):\n",
        "  sse = sse+(Y[i] - m_y)*(Y[i] - m_y)\n",
        "  sst = sst+(Y[i] - m_y)*(Y[i] - m_y)\n",
        "\n",
        "#num1 = sum(float(sse[i]) for i in range(N))\n",
        "#den1 = sum(float(sst[i]) for i in range(N))\n",
        "num1=np.sum(sse)\n",
        "den1=np.sum(sst)\n",
        "# for i in range(N):\n",
        "#   (num1)=(num1)+sse[i]\n",
        "#   (den1)=(den1)+sst[i]\n",
        "r_sqr = float(1 - (num1 / den1))\n",
        "vif=float(1/(1-r_sqr))\n",
        "print(\"vif:\",vif)\n",
        "\n",
        "\n",
        "plt.scatter(x,y,color='green')\n",
        "plt.xlabel('x')\n",
        "plt.ylabel('y')\n",
        "plt.plot(x, b0 + b1*x)\n"
      ],
      "metadata": {
        "id": "gP4CTreTvuAW",
        "colab": {
          "base_uri": "https://localhost:8080/",
          "height": 420
        },
        "outputId": "df2df9b5-87dc-4648-ebcf-6d0edb1faab7"
      },
      "execution_count": 8,
      "outputs": [
        {
          "output_type": "stream",
          "name": "stdout",
          "text": [
            "30\n",
            "[5.31333333]\n",
            "6.5203446331838135\n",
            "b1: [0.81071814]\n",
            "b0: [2.21272889]\n",
            "R: [0.97824162]\n",
            "vif: 1.0\n"
          ]
        },
        {
          "output_type": "execute_result",
          "data": {
            "text/plain": [
              "[<matplotlib.lines.Line2D at 0x7f1dba3e4b50>]"
            ]
          },
          "metadata": {},
          "execution_count": 8
        },
        {
          "output_type": "display_data",
          "data": {
            "text/plain": [
              "<Figure size 432x288 with 1 Axes>"
            ],
            "image/png": "[encoded data removed]"
          },
          "metadata": {
            "needs_background": "light"
          }
        }
      ]
    }
  ]
}