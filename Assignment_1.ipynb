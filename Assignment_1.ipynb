{
  "nbformat": 4,
  "nbformat_minor": 0,
  "metadata": {
    "colab": {
      "provenance": [],
      "collapsed_sections": [
        "Mt8Y7FXy5YcI"
      ],
      "authorship_tag": "ABX9TyMlmrPm6jRPLyKSc1x/MHB0",
      "include_colab_link": true
    },
    "kernelspec": {
      "name": "python3",
      "display_name": "Python 3"
    },
    "language_info": {
      "name": "python"
    }
  },
  "cells": [
    {
      "cell_type": "markdown",
      "metadata": {
        "id": "view-in-github",
        "colab_type": "text"
      },
      "source": [
        "<a href=\"https://colab.research.google.com/github/arshya-garg/COMP-STATS-LAB/blob/main/Assignment_1.ipynb\" target=\"_parent\"><img src=\"https://colab.research.google.com/assets/colab-badge.svg\" alt=\"Open In Colab\"/></a>"
      ]
    },
    {
      "cell_type": "markdown",
      "source": [
        "# Perform linear regression,correlation and vif on question done in classs through inbuilt functions"
      ],
      "metadata": {
        "id": "Mt8Y7FXy5YcI"
      }
    },
    {
      "cell_type": "code",
      "source": [
        "%matplotlib inline\n",
        "import numpy as np\n",
        "import matplotlib.pyplot as plt\n",
        "\n",
        "x = np.array([95,85,80,70,60])\n",
        "y = np.array([85,95,70,65,70])\n",
        "\n",
        "#mean\n",
        "m_x=np.mean(x)\n",
        "m_y=np.mean(y)\n",
        "  \n",
        "#b1\n",
        "num=np.sum([(x-m_x)*(y-m_y)])\n",
        "den=np.sum([(x-m_x)*(x-m_x)])\n",
        "b1= num/den\n",
        "print(\"b1:\",b1)\n",
        "\n",
        "#b0\n",
        "b0=m_y -b1*m_x\n",
        "print(\"b0:\",b0)\n",
        "\n",
        "#Coefficient of correlation\n",
        "N=len(x)\n",
        "num = (N * (x*y).sum()) - (x.sum() * y.sum())\n",
        "den = np.sqrt((N * (x**2).sum() - x.sum()**2) * (N * (y**2).sum() - y.sum()**2))\n",
        "R = num / den\n",
        "print(\"R:\",R)  \n",
        "\n",
        "#VIF\n",
        "sse = np.sum([(y - m_y)*(y - m_y)])\n",
        "sst = np.sum([(y - m_y)*(y - m_y) ])\n",
        "num1=np.sum(sse)\n",
        "den1=np.sum(sst)\n",
        "r_sqr = float(1 - (num1 / den1))\n",
        "vif=float(1/(1-r_sqr))\n",
        "print(\"vif:\",vif)\n",
        "\n",
        "\n",
        "plt.scatter(x,y,color='green')\n",
        "plt.xlabel('x')\n",
        "plt.ylabel('y')\n",
        "plt.plot(x, b0 + b1*x)"
      ],
      "metadata": {
        "colab": {
          "base_uri": "https://localhost:8080/",
          "height": 366
        },
        "id": "Oj7B3Lo7Nb34",
        "outputId": "0e286f00-f130-461e-cf7b-2eab8348669e"
      },
      "execution_count": null,
      "outputs": [
        {
          "output_type": "stream",
          "name": "stdout",
          "text": [
            "b1: 0.6438356164383562\n",
            "b0: 26.78082191780822\n",
            "R: 0.6930525298193004\n",
            "vif: 1.0\n"
          ]
        },
        {
          "output_type": "execute_result",
          "data": {
            "text/plain": [
              "[<matplotlib.lines.Line2D at 0x7fc7ed5e29d0>]"
            ]
          },
          "metadata": {},
          "execution_count": 54
        },
        {
          "output_type": "display_data",
          "data": {
            "text/plain": [
              "<Figure size 432x288 with 1 Axes>"
            ],
            "image/png": "[encoded data removed]"
          },
          "metadata": {
            "needs_background": "light"
          }
        }
      ]
    },
    {
      "cell_type": "markdown",
      "source": [
        "# Perform linear regression,correlation and vif on question done in classs  without inbuilt function(own)"
      ],
      "metadata": {
        "id": "V9UyD9PSG5yy"
      }
    },
    {
      "cell_type": "code",
      "source": [
        "%matplotlib inline\n",
        "import numpy as np\n",
        "import matplotlib.pyplot as plt\n",
        "import itertools\n",
        "\n",
        "X = [95,85,80,70,60]\n",
        "Y = [85,95,70,65,70]\n",
        "N=0\n",
        "for i in X:\n",
        "  N=N+1\n",
        "print(N)\n",
        "#N=len(X)\n",
        "sum=0\n",
        "sum1=0\n",
        "num=0\n",
        "den=0\n",
        "#mean\n",
        "for i in X:\n",
        "    sum=sum+i\n",
        "m_x=sum/N\n",
        "print(m_x)\n",
        "\n",
        "for j in Y:\n",
        "    sum1=sum1+j\n",
        "m_y=sum1/N\n",
        "print(m_y)\n",
        "\n",
        "#b1\n",
        "for i in range(N):\n",
        "  num=num+((X[i]-m_x)*(Y[i]-m_y))\n",
        "  den=den+((X[i]-m_x)*(X[i]-m_x))\n",
        "b1= (num/den)\n",
        "print(\"b1:\",b1)\n",
        "\n",
        "\n",
        "#b0\n",
        "b0=m_y-(b1*m_x)\n",
        "print(\"b0:\",b0)\n",
        "\n",
        "#Coeffienct of correlation\n",
        "sum_xy=0\n",
        "sum_x=0\n",
        "sum_y=0\n",
        "sum_x2=0\n",
        "sum_y2=0\n",
        "for i in range(N):\n",
        "  sum_xy=sum_xy+X[i]*Y[i]\n",
        "  sum_x=sum_x+X[i]\n",
        "  sum_y=sum_y+Y[i]\n",
        "  sum_x2=sum_x2+X[i]*X[i]\n",
        "  sum_y2=sum_y2+Y[i]*Y[i]\n",
        "num = (N * sum_xy) - (sum_x * sum_y)\n",
        "den = np.sqrt((N * sum_x2 - (sum_x*sum_x)) * (N * sum_y2 - (sum_y*sum_y)))\n",
        "R = num / den\n",
        "print(\"R:\",R)  \n",
        "\n",
        "#VIF\n",
        "#sse=0\n",
        "#sst=0\n",
        "\n",
        "for i in range(N):\n",
        "  sse = sse+(Y[i] - m_y)*(Y[i] - m_y)\n",
        "  sst = sst+(Y[i] - m_y)*(Y[i] - m_y)\n",
        "\n",
        "#num1 = sum(float(sse[i]) for i in range(N))\n",
        "#den1 = sum(float(sst[i]) for i in range(N))\n",
        "num1=np.sum(sse)\n",
        "den1=np.sum(sst)\n",
        "# for i in range(N):\n",
        "#   (num1)=(num1)+sse[i]\n",
        "#   (den1)=(den1)+sst[i]\n",
        "r_sqr = float(1 - (num1 / den1))\n",
        "vif=float(1/(1-r_sqr))\n",
        "print(\"vif:\",vif)\n",
        "\n",
        "\n",
        "plt.scatter(x,y,color='green')\n",
        "plt.xlabel('x')\n",
        "plt.ylabel('y')\n",
        "plt.plot(x, b0 + b1*x)"
      ],
      "metadata": {
        "colab": {
          "base_uri": "https://localhost:8080/",
          "height": 418
        },
        "outputId": "95320fc2-b686-4dd7-9025-b1c759ac1cfa",
        "id": "ioGqHK54b-ae"
      },
      "execution_count": null,
      "outputs": [
        {
          "output_type": "stream",
          "name": "stdout",
          "text": [
            "5\n",
            "78.0\n",
            "77.0\n",
            "b1: 0.6438356164383562\n",
            "b0: 26.78082191780822\n",
            "R: 0.6930525298193004\n",
            "vif: 1.0\n"
          ]
        },
        {
          "output_type": "execute_result",
          "data": {
            "text/plain": [
              "[<matplotlib.lines.Line2D at 0x7fc7ed6e2690>]"
            ]
          },
          "metadata": {},
          "execution_count": 55
        },
        {
          "output_type": "display_data",
          "data": {
            "text/plain": [
              "<Figure size 432x288 with 1 Axes>"
            ],
            "image/png": "[encoded data removed]"
          },
          "metadata": {
            "needs_background": "light"
          }
        }
      ]
    },
    {
      "cell_type": "markdown",
      "source": [
        "# MISC"
      ],
      "metadata": {
        "id": "w9oN1pEsfxEl"
      }
    },
    {
      "cell_type": "code",
      "source": [
        "%matplotlib inline\n",
        "import numpy as np\n",
        "import matplotlib.pyplot as plt\n",
        "\n",
        "def meanCalc(X):\n",
        "  meancalc=np.mean(x)\n",
        "  return meancalc\n",
        "  \n",
        "\n",
        "def b1Calc(X,m_x,Y,m_y):\n",
        "  num=np.sum([(x-m_x)*(y-m_y)])\n",
        "  den=np.sum([(x-m_x)*(x-m_x)])\n",
        "  b1= num/den\n",
        "  return b1\n",
        "\n",
        "def b0calc(m_y,b1,m_x):\n",
        "  b0=m_y -b1*m_x\n",
        "  return b0\n",
        "\n",
        "def corrCoef(x,y):\n",
        "  N=len(x)\n",
        "  num = (N * (x*y).sum()) - (x.sum() * y.sum())\n",
        "  den = np.sqrt((N * (x**2).sum() - x.sum()**2) * (N * (y**2).sum() - y.sum()**2))\n",
        "  R = num / den\n",
        "  return R\n",
        "\n",
        "def vif(x,y,m_y,m_x):\n",
        "  sse = sum([(y - m_y)*(y - m_y)])\n",
        "  sst = sum([(y - m_y)*(y - m_y) ])\n",
        "  r_sqr = 1 - (sse / sst)\n",
        "  vif=1/(1-r_sqr)\n",
        "  return vif\n",
        "\n",
        "def main():\n",
        "  X = np.array([95,85,80,70,60])\n",
        "  Y = np.array([85,95,70,65,70])\n",
        "  m_x=meanCalc(X)\n",
        "  m_y=meanCalc(Y)\n",
        "  b1=b1Calc(X,m_x,Y,m_y)\n",
        "  b0=b0calc(m_y,b1.m_x)\n",
        "  print(\"b0:\",b0)\n",
        "  print(\"b1:\",b1)\n",
        "  R=corrCoef(X,Y)\n",
        "  VIF=vif(X,Y,m_y,m_x)\n",
        "  plt.scatter(X,Y,color='green')\n",
        "  plt.xlabel('x')\n",
        "  plt.ylabel('y')\n",
        "\n",
        "\n",
        "\n"
      ],
      "metadata": {
        "id": "X75i_3xuVTKm"
      },
      "execution_count": null,
      "outputs": []
    },
    {
      "cell_type": "code",
      "source": [
        "%matplotlib inline\n",
        "import numpy as np\n",
        "from matplotlib import pyplot as plt\n",
        "from scipy.stats import pearsonr\n",
        "from scipy import stats\n",
        "\n",
        "\n",
        "#size\n",
        "n=np.size(x)\n",
        "\n",
        "#mean\n",
        "def meanCalc(A):\n",
        "  for i in A:\n",
        "    sum=sum+A[i]\n",
        "  return(sum/n)\n",
        "\n",
        "\n",
        "\n",
        "def b1Calc(A,B):\n",
        "  for i in A:\n",
        "    for i in B:\n",
        "      num=num+(A[i]-m_x)*(B[i]-m_y)\n",
        "\n",
        "  for i in A:\n",
        "    den=den+(A[i]-m_x)*(A[i]-m_x)\n",
        "  return(num/den)\n",
        "  \n",
        "\n",
        "#=np.sum([(x-m_x)*(y-m_y)])\n",
        "#den=np.sum([(x-m_x)*(x-m_x)])\n",
        "#b1=num/den\n",
        "\n",
        "def b0Calc(b1,m_x,m_y):\n",
        "  b0=m_y -b1*m_x\n",
        "\n",
        "\n",
        "def line(b0,b1):\n",
        "  y=b0+b1*x\n",
        "  y_pred=map(x,y)\n",
        "  return y_pred\n",
        "\n",
        "def main():\n",
        "  x = np.array([95,85,80,70,60])\n",
        "  y = np.array([85,95,70,65,70])\n",
        "  n=5\n",
        "  m_x=meanCalc(x)\n",
        "  m_y=meanCalc(y)\n",
        "  b0=b0Calc(b1,m_x,m_y)\n",
        "  b1=b1Calc(x,y)\n",
        "  y_pred=line(b0,b1)\n",
        "  plt.scatter(x,y,color='green')\n",
        "  plt.xlabel('x')\n",
        "  plt.ylabel('y')\n",
        "  \n",
        "  plt.plot(x,y_pred,color='black')\n",
        "  plt.show()"
      ],
      "metadata": {
        "id": "tMgYVAa3G73R"
      },
      "execution_count": null,
      "outputs": []
    }
  ]
}